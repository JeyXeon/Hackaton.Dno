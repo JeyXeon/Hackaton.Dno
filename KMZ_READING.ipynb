{
 "cells": [
  {
   "cell_type": "code",
   "execution_count": 1,
   "metadata": {},
   "outputs": [
    {
     "name": "stdout",
     "output_type": "stream",
     "text": [
      "Collecting zipfile36\n",
      "  Downloading zipfile36-0.1.3-py3-none-any.whl (20 kB)\n",
      "Installing collected packages: zipfile36\n",
      "Successfully installed zipfile36-0.1.3\n"
     ]
    }
   ],
   "source": [
    "! pip install zipfile36"
   ]
  },
  {
   "cell_type": "code",
   "execution_count": 9,
   "metadata": {},
   "outputs": [
    {
     "name": "stdout",
     "output_type": "stream",
     "text": [
      "Collecting fastkml\n",
      "  Downloading fastkml-0.11.tar.gz (66 kB)\n",
      "Collecting pygeoif\n",
      "  Downloading pygeoif-0.7.tar.gz (34 kB)\n",
      "Requirement already satisfied: python-dateutil in c:\\users\\jeyxx\\anaconda3\\lib\\site-packages (from fastkml) (2.8.1)\n",
      "Requirement already satisfied: six>=1.5 in c:\\users\\jeyxx\\anaconda3\\lib\\site-packages (from python-dateutil->fastkml) (1.14.0)\n",
      "Building wheels for collected packages: fastkml, pygeoif\n",
      "  Building wheel for fastkml (setup.py): started\n",
      "  Building wheel for fastkml (setup.py): finished with status 'done'\n",
      "  Created wheel for fastkml: filename=fastkml-0.11-py3-none-any.whl size=61869 sha256=af661e6c00acc79e02579ecfa6b8efd68743eb5d71398f6f48c067693b93d924\n",
      "  Stored in directory: c:\\users\\jeyxx\\appdata\\local\\pip\\cache\\wheels\\40\\5b\\cc\\f1e6b46274d5ebe229555ffd2e2cdbd0cf9781a2acea9ae005\n",
      "  Building wheel for pygeoif (setup.py): started\n",
      "  Building wheel for pygeoif (setup.py): finished with status 'done'\n",
      "  Created wheel for pygeoif: filename=pygeoif-0.7-py3-none-any.whl size=19252 sha256=bdac17bd9635746bf92f8d1281b5442c4c5a875ade5a225256d1352944caaaae\n",
      "  Stored in directory: c:\\users\\jeyxx\\appdata\\local\\pip\\cache\\wheels\\4a\\84\\19\\a1fcaf92f8f57a424eca18e2d8c03d149436806b91474bcb89\n",
      "Successfully built fastkml pygeoif\n",
      "Installing collected packages: pygeoif, fastkml\n",
      "Successfully installed fastkml-0.11 pygeoif-0.7\n"
     ]
    }
   ],
   "source": [
    "! pip install fastkml"
   ]
  },
  {
   "cell_type": "code",
   "execution_count": 10,
   "metadata": {},
   "outputs": [],
   "source": [
    "from zipfile36 import ZipFile\n",
    "import pandas\n",
    "import fastkml"
   ]
  },
  {
   "cell_type": "code",
   "execution_count": 3,
   "metadata": {},
   "outputs": [],
   "source": [
    "filename = 'v1.kmz'\n",
    "\n",
    "kmz = ZipFile(filename, 'r')\n",
    "kml = kmz.open('doc.kml', 'r')"
   ]
  },
  {
   "cell_type": "code",
   "execution_count": 4,
   "metadata": {},
   "outputs": [],
   "source": [
    "input_data = kml.read()"
   ]
  },
  {
   "cell_type": "code",
   "execution_count": 5,
   "metadata": {},
   "outputs": [],
   "source": [
    "sides = ['west', 'east', 'south', 'north']"
   ]
  },
  {
   "cell_type": "code",
   "execution_count": 6,
   "metadata": {},
   "outputs": [
    {
     "name": "stdout",
     "output_type": "stream",
     "text": [
      "35.7988817468766\n",
      "35.8119157103966\n",
      "55.8231743212821\n",
      "55.8305106504981\n"
     ]
    }
   ],
   "source": [
    "for x in sides:\n",
    "    start = input_data.decode(\"utf-8\").find(x) + len(x) + 1\n",
    "    finish = input_data.decode(\"utf-8\").find('</'+x+'>')\n",
    "    print(input_data.decode(\"utf-8\")[start:finish])"
   ]
  },
  {
   "cell_type": "code",
   "execution_count": 13,
   "metadata": {},
   "outputs": [
    {
     "ename": "NameError",
     "evalue": "name 'file' is not defined",
     "output_type": "error",
     "traceback": [
      "\u001b[1;31m---------------------------------------------------------------------------\u001b[0m",
      "\u001b[1;31mNameError\u001b[0m                                 Traceback (most recent call last)",
      "\u001b[1;32m<ipython-input-13-5ba3e6268b9a>\u001b[0m in \u001b[0;36m<module>\u001b[1;34m\u001b[0m\n\u001b[0;32m      1\u001b[0m \u001b[1;32mfrom\u001b[0m \u001b[0mfastkml\u001b[0m \u001b[1;32mimport\u001b[0m  \u001b[0mkml\u001b[0m\u001b[1;33m\u001b[0m\u001b[1;33m\u001b[0m\u001b[0m\n\u001b[1;32m----> 2\u001b[1;33m \u001b[0mdoc\u001b[0m \u001b[1;33m=\u001b[0m \u001b[0mfile\u001b[0m\u001b[1;33m(\u001b[0m\u001b[1;34m\"doc.kml\"\u001b[0m\u001b[1;33m)\u001b[0m\u001b[1;33m.\u001b[0m\u001b[0mread\u001b[0m\u001b[1;33m(\u001b[0m\u001b[1;33m)\u001b[0m\u001b[1;33m\u001b[0m\u001b[1;33m\u001b[0m\u001b[0m\n\u001b[0m\u001b[0;32m      3\u001b[0m \u001b[0mk\u001b[0m \u001b[1;33m=\u001b[0m \u001b[0mkml\u001b[0m\u001b[1;33m.\u001b[0m\u001b[0mKML\u001b[0m\u001b[1;33m(\u001b[0m\u001b[1;33m)\u001b[0m\u001b[1;33m\u001b[0m\u001b[1;33m\u001b[0m\u001b[0m\n\u001b[0;32m      4\u001b[0m \u001b[0mk\u001b[0m\u001b[1;33m.\u001b[0m\u001b[0mfrom_string\u001b[0m\u001b[1;33m(\u001b[0m\u001b[0mdoc\u001b[0m\u001b[1;33m)\u001b[0m\u001b[1;33m\u001b[0m\u001b[1;33m\u001b[0m\u001b[0m\n\u001b[0;32m      5\u001b[0m \u001b[0mlen\u001b[0m\u001b[1;33m(\u001b[0m\u001b[0mk\u001b[0m\u001b[1;33m.\u001b[0m\u001b[0mfeatures\u001b[0m\u001b[1;33m(\u001b[0m\u001b[1;33m)\u001b[0m\u001b[1;33m)\u001b[0m\u001b[1;33m\u001b[0m\u001b[1;33m\u001b[0m\u001b[0m\n",
      "\u001b[1;31mNameError\u001b[0m: name 'file' is not defined"
     ]
    }
   ],
   "source": [
    "from fastkml import  kml\n",
    "doc = file(\"doc.kml\").read()\n",
    "k = kml.KML()\n",
    "k.from_string(doc)\n",
    "len(k.features())"
   ]
  },
  {
   "cell_type": "code",
   "execution_count": 14,
   "metadata": {},
   "outputs": [],
   "source": [
    "import cv2"
   ]
  },
  {
   "cell_type": "code",
   "execution_count": 15,
   "metadata": {},
   "outputs": [
    {
     "data": {
      "text/plain": [
       "-1"
      ]
     },
     "execution_count": 15,
     "metadata": {},
     "output_type": "execute_result"
    }
   ],
   "source": [
    "image = cv2.imread(\"v1.tif\")\n",
    "cv2.imshow(\"Original image\", image)\n",
    "cv2.waitKey(0)"
   ]
  },
  {
   "cell_type": "code",
   "execution_count": null,
   "metadata": {},
   "outputs": [],
   "source": []
  },
  {
   "cell_type": "code",
   "execution_count": null,
   "metadata": {},
   "outputs": [],
   "source": []
  },
  {
   "cell_type": "code",
   "execution_count": null,
   "metadata": {},
   "outputs": [],
   "source": []
  },
  {
   "cell_type": "code",
   "execution_count": null,
   "metadata": {},
   "outputs": [],
   "source": []
  },
  {
   "cell_type": "code",
   "execution_count": null,
   "metadata": {},
   "outputs": [],
   "source": []
  }
 ],
 "metadata": {
  "kernelspec": {
   "display_name": "Python 3",
   "language": "python",
   "name": "python3"
  },
  "language_info": {
   "codemirror_mode": {
    "name": "ipython",
    "version": 3
   },
   "file_extension": ".py",
   "mimetype": "text/x-python",
   "name": "python",
   "nbconvert_exporter": "python",
   "pygments_lexer": "ipython3",
   "version": "3.7.6"
  }
 },
 "nbformat": 4,
 "nbformat_minor": 2
}
